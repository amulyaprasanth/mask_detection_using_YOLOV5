{
 "cells": [
  {
   "cell_type": "markdown",
   "metadata": {
    "id": "dysQmUQ_vG2H"
   },
   "source": [
    "# Yolov5 Mask Detection Training Notebook\n"
   ]
  },
  {
   "cell_type": "code",
   "execution_count": 1,
   "metadata": {
    "execution": {
     "iopub.execute_input": "2025-01-22T08:50:42.985150Z",
     "iopub.status.busy": "2025-01-22T08:50:42.984873Z",
     "iopub.status.idle": "2025-01-22T08:50:44.861351Z",
     "shell.execute_reply": "2025-01-22T08:50:44.860475Z",
     "shell.execute_reply.started": "2025-01-22T08:50:42.985127Z"
    },
    "trusted": true
   },
   "outputs": [],
   "source": [
    "# Disable the warnings\n",
    "import os\n",
    "import warnings\n",
    "warnings.filterwarnings('ignore')\n",
    "\n",
    "# disable wandb logging\\\n",
    "os.environ['WANDB_DISABLED'] = 'true'"
   ]
  },
  {
   "cell_type": "markdown",
   "metadata": {
    "colab": {
     "base_uri": "https://localhost:8080/"
    },
    "id": "x5uneSDyuUPf",
    "outputId": "3ca6f2d6-44bd-4e51-f9e8-aae0795add9e"
   },
   "source": [
    "## Importing the GitHub repo and Installing the Requirements"
   ]
  },
  {
   "cell_type": "code",
   "execution_count": 2,
   "metadata": {
    "execution": {
     "iopub.execute_input": "2025-01-22T08:50:46.410397Z",
     "iopub.status.busy": "2025-01-22T08:50:46.410179Z",
     "iopub.status.idle": "2025-01-22T08:50:47.863465Z",
     "shell.execute_reply": "2025-01-22T08:50:47.862486Z",
     "shell.execute_reply.started": "2025-01-22T08:50:46.410377Z"
    },
    "trusted": true
   },
   "outputs": [
    {
     "name": "stderr",
     "output_type": "stream",
     "text": [
      "fatal: destination path 'yolov5' already exists and is not an empty directory.\n"
     ]
    }
   ],
   "source": [
    "# Clone the ultralytics repo for the model \n",
    "!git clone https://github.com/ultralytics/yolov5.git"
   ]
  },
  {
   "cell_type": "code",
   "execution_count": 3,
   "metadata": {
    "execution": {
     "iopub.execute_input": "2025-01-22T08:50:47.873747Z",
     "iopub.status.busy": "2025-01-22T08:50:47.873534Z",
     "iopub.status.idle": "2025-01-22T08:50:53.084473Z",
     "shell.execute_reply": "2025-01-22T08:50:53.083610Z",
     "shell.execute_reply.started": "2025-01-22T08:50:47.873718Z"
    },
    "id": "RykVIkzlu7z6",
    "trusted": true
   },
   "outputs": [
    {
     "name": "stdout",
     "output_type": "stream",
     "text": [
      "Note: you may need to restart the kernel to use updated packages.\n"
     ]
    }
   ],
   "source": [
    "%pip install -qr yolov5/requirements.txt "
   ]
  },
  {
   "cell_type": "markdown",
   "metadata": {
    "id": "XNlOwrd7u-j2"
   },
   "source": [
    "## Importing the model"
   ]
  },
  {
   "cell_type": "code",
   "execution_count": 4,
   "metadata": {
    "colab": {
     "base_uri": "https://localhost:8080/",
     "height": 217,
     "referenced_widgets": [
      "e2638361ba234c49982ec558479ffb18",
      "c2880b3c1c5f4b85bfd94a5744a4cc12",
      "e2d25a6d493343e5842569b0da0e3e60",
      "129b61f841e147bbae9edbc9c355f0de",
      "65ef973a75f54e52bcf11bed5ca86e53",
      "0624e96900824ec191ab912405b4ff9b",
      "5261df5d85fa4a1385a9adbcd34f6910",
      "a1aef2e9030e4e4d8835bbc6fa00d2cb",
      "e9ffe0c1affb4446be6eaa7e248fd2ca",
      "f6f2a98f94744de4866ded2dd7cf2edf",
      "5c7d538dbf7249529ef28158b7459e41"
     ]
    },
    "execution": {
     "iopub.execute_input": "2025-01-22T08:50:53.085807Z",
     "iopub.status.busy": "2025-01-22T08:50:53.085482Z",
     "iopub.status.idle": "2025-01-22T08:51:04.550030Z",
     "shell.execute_reply": "2025-01-22T08:51:04.549328Z",
     "shell.execute_reply.started": "2025-01-22T08:50:53.085784Z"
    },
    "id": "1_fLj6OTveIW",
    "outputId": "1eaaeaa7-5531-40aa-a8ce-0d8ddf20f00d",
    "trusted": true
   },
   "outputs": [
    {
     "name": "stderr",
     "output_type": "stream",
     "text": [
      "Using cache found in C:\\Users\\amuly/.cache\\torch\\hub\\ultralytics_yolov5_master\n",
      "YOLOv5  2025-1-22 Python-3.11.0 torch-2.4.1+cu124 CUDA:0 (NVIDIA GeForce RTX 3070 Laptop GPU, 8192MiB)\n",
      "\n",
      "Fusing layers... \n",
      "YOLOv5s summary: 213 layers, 7225885 parameters, 0 gradients, 16.4 GFLOPs\n",
      "Adding AutoShape... \n",
      "image 1/1: 720x1280 2 persons, 1 tie, 1 cell phone\n",
      "Speed: 5322.9ms pre-process, 34.4ms inference, 78.9ms NMS per image at shape (1, 3, 384, 640)\n"
     ]
    }
   ],
   "source": [
    "import torch\n",
    "\n",
    "# Model\n",
    "# or yolov5m, yolov5l, yolov5x, custom\n",
    "model = torch.hub.load('ultralytics/yolov5', 'yolov5s')\n",
    "\n",
    "# Images\n",
    "# or file, Path, PIL, OpenCV, numpy, list\n",
    "img = 'https://ultralytics.com/images/zidane.jpg'\n",
    "\n",
    "# Inference\n",
    "results = model(img)\n",
    "\n",
    "# Results\n",
    "results.print()  # or .show(), .save(), .crop(), .pandas(), etc."
   ]
  },
  {
   "cell_type": "markdown",
   "metadata": {
    "id": "lwE2VaMs0kM1"
   },
   "source": [
    "## Training the model\n",
    "\n",
    "**Warning :** This cell may take long time for executing depending on your Hardware,"
   ]
  },
  {
   "cell_type": "code",
   "execution_count": 7,
   "metadata": {
    "execution": {
     "iopub.execute_input": "2025-01-22T08:51:04.552342Z",
     "iopub.status.busy": "2025-01-22T08:51:04.551959Z",
     "iopub.status.idle": "2025-01-22T08:51:54.196550Z",
     "shell.execute_reply": "2025-01-22T08:51:54.195580Z",
     "shell.execute_reply.started": "2025-01-22T08:51:04.552320Z"
    },
    "id": "mef_NAQ-veyO",
    "trusted": true
   },
   "outputs": [
    {
     "name": "stdout",
     "output_type": "stream",
     "text": [
      "^C\n"
     ]
    }
   ],
   "source": [
    "# Training the model\n",
    "!python yolov5/train.py --img 640 --batch 16 --epochs 50 --data custom.yml --weights yolov5n.pt --nosave --cache"
   ]
  },
  {
   "cell_type": "code",
   "execution_count": 6,
   "metadata": {
    "colab": {
     "base_uri": "https://localhost:8080/"
    },
    "execution": {
     "iopub.execute_input": "2025-01-22T08:51:54.197973Z",
     "iopub.status.busy": "2025-01-22T08:51:54.197720Z",
     "iopub.status.idle": "2025-01-22T08:52:00.191738Z",
     "shell.execute_reply": "2025-01-22T08:52:00.190652Z",
     "shell.execute_reply.started": "2025-01-22T08:51:54.197951Z"
    },
    "id": "r_g3wXzOPt8x",
    "outputId": "9f65b8cf-c4f2-47b0-835b-e3e0c66fdb61",
    "trusted": true
   },
   "outputs": [
    {
     "name": "stderr",
     "output_type": "stream",
     "text": [
      "\u001b[34m\u001b[1mdetect: \u001b[0mweights=['runs/train/exp20/weights/best.pt'], source=https://www.youtube.com/watch?v=FYqEs4v7EBg, data=yolov5\\data\\coco128.yaml, imgsz=[640, 640], conf_thres=0.25, iou_thres=0.45, max_det=1000, device=, view_img=False, save_txt=False, save_format=0, save_csv=False, save_conf=False, save_crop=False, nosave=False, classes=None, agnostic_nms=False, augment=False, visualize=False, update=False, project=yolov5\\runs\\detect, name=exp, exist_ok=False, line_thickness=3, hide_labels=False, hide_conf=False, half=False, dnn=False, vid_stride=1\n",
      "YOLOv5  v7.0-397-gde62f93c Python-3.11.0 torch-2.4.1+cu124 CUDA:0 (NVIDIA GeForce RTX 3070 Laptop GPU, 8192MiB)\n",
      "\n",
      "Traceback (most recent call last):\n",
      "  File \"c:\\Users\\amuly\\OneDrive\\Desktop\\mask_detection_using_YOLOV5\\yolov5\\detect.py\", line 438, in <module>\n",
      "    main(opt)\n",
      "  File \"c:\\Users\\amuly\\OneDrive\\Desktop\\mask_detection_using_YOLOV5\\yolov5\\detect.py\", line 433, in main\n",
      "    run(**vars(opt))\n",
      "  File \"c:\\ProgramData\\anaconda3\\envs\\torch\\Lib\\site-packages\\torch\\utils\\_contextlib.py\", line 116, in decorate_context\n",
      "    return func(*args, **kwargs)\n",
      "           ^^^^^^^^^^^^^^^^^^^^^\n",
      "  File \"c:\\Users\\amuly\\OneDrive\\Desktop\\mask_detection_using_YOLOV5\\yolov5\\detect.py\", line 166, in run\n",
      "    model = DetectMultiBackend(weights, device=device, dnn=dnn, data=data, fp16=half)\n",
      "            ^^^^^^^^^^^^^^^^^^^^^^^^^^^^^^^^^^^^^^^^^^^^^^^^^^^^^^^^^^^^^^^^^^^^^^^^^\n",
      "  File \"c:\\Users\\amuly\\OneDrive\\Desktop\\mask_detection_using_YOLOV5\\yolov5\\models\\common.py\", line 489, in __init__\n",
      "    model = attempt_load(weights if isinstance(weights, list) else w, device=device, inplace=True, fuse=fuse)\n",
      "            ^^^^^^^^^^^^^^^^^^^^^^^^^^^^^^^^^^^^^^^^^^^^^^^^^^^^^^^^^^^^^^^^^^^^^^^^^^^^^^^^^^^^^^^^^^^^^^^^^\n",
      "  File \"c:\\Users\\amuly\\OneDrive\\Desktop\\mask_detection_using_YOLOV5\\yolov5\\models\\experimental.py\", line 98, in attempt_load\n",
      "    ckpt = torch.load(attempt_download(w), map_location=\"cpu\")  # load\n",
      "           ^^^^^^^^^^^^^^^^^^^^^^^^^^^^^^^^^^^^^^^^^^^^^^^^^^^\n",
      "  File \"C:\\Users\\amuly\\AppData\\Roaming\\Python\\Python311\\site-packages\\ultralytics\\utils\\patches.py\", line 86, in torch_load\n",
      "    return _torch_load(*args, **kwargs)\n",
      "           ^^^^^^^^^^^^^^^^^^^^^^^^^^^^\n",
      "  File \"c:\\ProgramData\\anaconda3\\envs\\torch\\Lib\\site-packages\\torch\\serialization.py\", line 1065, in load\n",
      "    with _open_file_like(f, 'rb') as opened_file:\n",
      "         ^^^^^^^^^^^^^^^^^^^^^^^^\n",
      "  File \"c:\\ProgramData\\anaconda3\\envs\\torch\\Lib\\site-packages\\torch\\serialization.py\", line 468, in _open_file_like\n",
      "    return _open_file(name_or_buffer, mode)\n",
      "           ^^^^^^^^^^^^^^^^^^^^^^^^^^^^^^^^\n",
      "  File \"c:\\ProgramData\\anaconda3\\envs\\torch\\Lib\\site-packages\\torch\\serialization.py\", line 449, in __init__\n",
      "    super().__init__(open(name, mode))\n",
      "                     ^^^^^^^^^^^^^^^^\n",
      "FileNotFoundError: [Errno 2] No such file or directory: 'runs\\\\train\\\\exp20\\\\weights\\\\best.pt'\n"
     ]
    }
   ],
   "source": [
    "# Testing our model\n",
    "!python yolov5/detect.py --weights runs/train/exp20/weights/best.pt --img 640 --conf 0.25 --source https://www.youtube.com/watch?v=FYqEs4v7EBg"
   ]
  },
  {
   "cell_type": "code",
   "execution_count": null,
   "metadata": {},
   "outputs": [],
   "source": []
  }
 ],
 "metadata": {
  "accelerator": "GPU",
  "colab": {
   "provenance": []
  },
  "kaggle": {
   "accelerator": "nvidiaTeslaT4",
   "dataSources": [],
   "dockerImageVersionId": 30840,
   "isGpuEnabled": true,
   "isInternetEnabled": true,
   "language": "python",
   "sourceType": "notebook"
  },
  "kernelspec": {
   "display_name": "torch",
   "language": "python",
   "name": "python3"
  },
  "language_info": {
   "codemirror_mode": {
    "name": "ipython",
    "version": 3
   },
   "file_extension": ".py",
   "mimetype": "text/x-python",
   "name": "python",
   "nbconvert_exporter": "python",
   "pygments_lexer": "ipython3",
   "version": "3.11.0"
  },
  "widgets": {
   "application/vnd.jupyter.widget-state+json": {
    "0624e96900824ec191ab912405b4ff9b": {
     "model_module": "@jupyter-widgets/controls",
     "model_module_version": "1.5.0",
     "model_name": "DescriptionStyleModel",
     "state": {
      "_model_module": "@jupyter-widgets/controls",
      "_model_module_version": "1.5.0",
      "_model_name": "DescriptionStyleModel",
      "_view_count": null,
      "_view_module": "@jupyter-widgets/base",
      "_view_module_version": "1.2.0",
      "_view_name": "StyleView",
      "description_width": ""
     }
    },
    "129b61f841e147bbae9edbc9c355f0de": {
     "model_module": "@jupyter-widgets/controls",
     "model_module_version": "1.5.0",
     "model_name": "FloatProgressModel",
     "state": {
      "_dom_classes": [],
      "_model_module": "@jupyter-widgets/controls",
      "_model_module_version": "1.5.0",
      "_model_name": "FloatProgressModel",
      "_view_count": null,
      "_view_module": "@jupyter-widgets/controls",
      "_view_module_version": "1.5.0",
      "_view_name": "ProgressView",
      "bar_style": "success",
      "description": "",
      "description_tooltip": null,
      "layout": "IPY_MODEL_e9ffe0c1affb4446be6eaa7e248fd2ca",
      "max": 14698491,
      "min": 0,
      "orientation": "horizontal",
      "style": "IPY_MODEL_a1aef2e9030e4e4d8835bbc6fa00d2cb",
      "value": 14698491
     }
    },
    "5261df5d85fa4a1385a9adbcd34f6910": {
     "model_module": "@jupyter-widgets/base",
     "model_module_version": "1.2.0",
     "model_name": "LayoutModel",
     "state": {
      "_model_module": "@jupyter-widgets/base",
      "_model_module_version": "1.2.0",
      "_model_name": "LayoutModel",
      "_view_count": null,
      "_view_module": "@jupyter-widgets/base",
      "_view_module_version": "1.2.0",
      "_view_name": "LayoutView",
      "align_content": null,
      "align_items": null,
      "align_self": null,
      "border": null,
      "bottom": null,
      "display": null,
      "flex": null,
      "flex_flow": null,
      "grid_area": null,
      "grid_auto_columns": null,
      "grid_auto_flow": null,
      "grid_auto_rows": null,
      "grid_column": null,
      "grid_gap": null,
      "grid_row": null,
      "grid_template_areas": null,
      "grid_template_columns": null,
      "grid_template_rows": null,
      "height": null,
      "justify_content": null,
      "justify_items": null,
      "left": null,
      "margin": null,
      "max_height": null,
      "max_width": null,
      "min_height": null,
      "min_width": null,
      "object_fit": null,
      "object_position": null,
      "order": null,
      "overflow": null,
      "overflow_x": null,
      "overflow_y": null,
      "padding": null,
      "right": null,
      "top": null,
      "visibility": null,
      "width": null
     }
    },
    "5c7d538dbf7249529ef28158b7459e41": {
     "model_module": "@jupyter-widgets/base",
     "model_module_version": "1.2.0",
     "model_name": "LayoutModel",
     "state": {
      "_model_module": "@jupyter-widgets/base",
      "_model_module_version": "1.2.0",
      "_model_name": "LayoutModel",
      "_view_count": null,
      "_view_module": "@jupyter-widgets/base",
      "_view_module_version": "1.2.0",
      "_view_name": "LayoutView",
      "align_content": null,
      "align_items": null,
      "align_self": null,
      "border": null,
      "bottom": null,
      "display": null,
      "flex": null,
      "flex_flow": null,
      "grid_area": null,
      "grid_auto_columns": null,
      "grid_auto_flow": null,
      "grid_auto_rows": null,
      "grid_column": null,
      "grid_gap": null,
      "grid_row": null,
      "grid_template_areas": null,
      "grid_template_columns": null,
      "grid_template_rows": null,
      "height": null,
      "justify_content": null,
      "justify_items": null,
      "left": null,
      "margin": null,
      "max_height": null,
      "max_width": null,
      "min_height": null,
      "min_width": null,
      "object_fit": null,
      "object_position": null,
      "order": null,
      "overflow": null,
      "overflow_x": null,
      "overflow_y": null,
      "padding": null,
      "right": null,
      "top": null,
      "visibility": null,
      "width": null
     }
    },
    "65ef973a75f54e52bcf11bed5ca86e53": {
     "model_module": "@jupyter-widgets/controls",
     "model_module_version": "1.5.0",
     "model_name": "HTMLModel",
     "state": {
      "_dom_classes": [],
      "_model_module": "@jupyter-widgets/controls",
      "_model_module_version": "1.5.0",
      "_model_name": "HTMLModel",
      "_view_count": null,
      "_view_module": "@jupyter-widgets/controls",
      "_view_module_version": "1.5.0",
      "_view_name": "HTMLView",
      "description": "",
      "description_tooltip": null,
      "layout": "IPY_MODEL_5c7d538dbf7249529ef28158b7459e41",
      "placeholder": "​",
      "style": "IPY_MODEL_f6f2a98f94744de4866ded2dd7cf2edf",
      "value": " 14.0M/14.0M [00:00&lt;00:00, 59.4MB/s]"
     }
    },
    "a1aef2e9030e4e4d8835bbc6fa00d2cb": {
     "model_module": "@jupyter-widgets/controls",
     "model_module_version": "1.5.0",
     "model_name": "ProgressStyleModel",
     "state": {
      "_model_module": "@jupyter-widgets/controls",
      "_model_module_version": "1.5.0",
      "_model_name": "ProgressStyleModel",
      "_view_count": null,
      "_view_module": "@jupyter-widgets/base",
      "_view_module_version": "1.2.0",
      "_view_name": "StyleView",
      "bar_color": null,
      "description_width": ""
     }
    },
    "c2880b3c1c5f4b85bfd94a5744a4cc12": {
     "model_module": "@jupyter-widgets/base",
     "model_module_version": "1.2.0",
     "model_name": "LayoutModel",
     "state": {
      "_model_module": "@jupyter-widgets/base",
      "_model_module_version": "1.2.0",
      "_model_name": "LayoutModel",
      "_view_count": null,
      "_view_module": "@jupyter-widgets/base",
      "_view_module_version": "1.2.0",
      "_view_name": "LayoutView",
      "align_content": null,
      "align_items": null,
      "align_self": null,
      "border": null,
      "bottom": null,
      "display": null,
      "flex": null,
      "flex_flow": null,
      "grid_area": null,
      "grid_auto_columns": null,
      "grid_auto_flow": null,
      "grid_auto_rows": null,
      "grid_column": null,
      "grid_gap": null,
      "grid_row": null,
      "grid_template_areas": null,
      "grid_template_columns": null,
      "grid_template_rows": null,
      "height": null,
      "justify_content": null,
      "justify_items": null,
      "left": null,
      "margin": null,
      "max_height": null,
      "max_width": null,
      "min_height": null,
      "min_width": null,
      "object_fit": null,
      "object_position": null,
      "order": null,
      "overflow": null,
      "overflow_x": null,
      "overflow_y": null,
      "padding": null,
      "right": null,
      "top": null,
      "visibility": null,
      "width": null
     }
    },
    "e2638361ba234c49982ec558479ffb18": {
     "model_module": "@jupyter-widgets/controls",
     "model_module_version": "1.5.0",
     "model_name": "HBoxModel",
     "state": {
      "_dom_classes": [],
      "_model_module": "@jupyter-widgets/controls",
      "_model_module_version": "1.5.0",
      "_model_name": "HBoxModel",
      "_view_count": null,
      "_view_module": "@jupyter-widgets/controls",
      "_view_module_version": "1.5.0",
      "_view_name": "HBoxView",
      "box_style": "",
      "children": [
       "IPY_MODEL_e2d25a6d493343e5842569b0da0e3e60",
       "IPY_MODEL_129b61f841e147bbae9edbc9c355f0de",
       "IPY_MODEL_65ef973a75f54e52bcf11bed5ca86e53"
      ],
      "layout": "IPY_MODEL_c2880b3c1c5f4b85bfd94a5744a4cc12"
     }
    },
    "e2d25a6d493343e5842569b0da0e3e60": {
     "model_module": "@jupyter-widgets/controls",
     "model_module_version": "1.5.0",
     "model_name": "HTMLModel",
     "state": {
      "_dom_classes": [],
      "_model_module": "@jupyter-widgets/controls",
      "_model_module_version": "1.5.0",
      "_model_name": "HTMLModel",
      "_view_count": null,
      "_view_module": "@jupyter-widgets/controls",
      "_view_module_version": "1.5.0",
      "_view_name": "HTMLView",
      "description": "",
      "description_tooltip": null,
      "layout": "IPY_MODEL_5261df5d85fa4a1385a9adbcd34f6910",
      "placeholder": "​",
      "style": "IPY_MODEL_0624e96900824ec191ab912405b4ff9b",
      "value": "100%"
     }
    },
    "e9ffe0c1affb4446be6eaa7e248fd2ca": {
     "model_module": "@jupyter-widgets/base",
     "model_module_version": "1.2.0",
     "model_name": "LayoutModel",
     "state": {
      "_model_module": "@jupyter-widgets/base",
      "_model_module_version": "1.2.0",
      "_model_name": "LayoutModel",
      "_view_count": null,
      "_view_module": "@jupyter-widgets/base",
      "_view_module_version": "1.2.0",
      "_view_name": "LayoutView",
      "align_content": null,
      "align_items": null,
      "align_self": null,
      "border": null,
      "bottom": null,
      "display": null,
      "flex": null,
      "flex_flow": null,
      "grid_area": null,
      "grid_auto_columns": null,
      "grid_auto_flow": null,
      "grid_auto_rows": null,
      "grid_column": null,
      "grid_gap": null,
      "grid_row": null,
      "grid_template_areas": null,
      "grid_template_columns": null,
      "grid_template_rows": null,
      "height": null,
      "justify_content": null,
      "justify_items": null,
      "left": null,
      "margin": null,
      "max_height": null,
      "max_width": null,
      "min_height": null,
      "min_width": null,
      "object_fit": null,
      "object_position": null,
      "order": null,
      "overflow": null,
      "overflow_x": null,
      "overflow_y": null,
      "padding": null,
      "right": null,
      "top": null,
      "visibility": null,
      "width": null
     }
    },
    "f6f2a98f94744de4866ded2dd7cf2edf": {
     "model_module": "@jupyter-widgets/controls",
     "model_module_version": "1.5.0",
     "model_name": "DescriptionStyleModel",
     "state": {
      "_model_module": "@jupyter-widgets/controls",
      "_model_module_version": "1.5.0",
      "_model_name": "DescriptionStyleModel",
      "_view_count": null,
      "_view_module": "@jupyter-widgets/base",
      "_view_module_version": "1.2.0",
      "_view_name": "StyleView",
      "description_width": ""
     }
    }
   }
  }
 },
 "nbformat": 4,
 "nbformat_minor": 4
}
